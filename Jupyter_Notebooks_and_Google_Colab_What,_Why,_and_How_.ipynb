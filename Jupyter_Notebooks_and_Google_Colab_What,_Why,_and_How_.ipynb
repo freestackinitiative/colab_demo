{
  "cells": [
    {
      "cell_type": "markdown",
      "metadata": {
        "id": "n_q51gfk3uxe"
      },
      "source": [
        "# Jupyter Notebooks and Google Colab - What, Why, and How?\n",
        "Author: Martin Arroyo\n",
        "\n"
      ]
    },
    {
      "cell_type": "markdown",
      "metadata": {
        "id": "Bp8fycVW6oqz"
      },
      "source": [
        "## What are Jupyter Notebooks?\n",
        "\n",
        "Jupyter Notebooks are an open-source interactive computing environment that allows users to create and share documents containing live code, equations, visualizations, and narrative text. They are particularly popular among data scientists and researchers for conducting data analysis, machine learning tasks, and statistical modeling, largely because of their flexibility in combining executable code with rich text elements in a single document. The name \"Jupyter\" is derived from the core supported programming languages: Julia, Python, and R, though the platform has since grown to support many other languages.\n",
        "\n"
      ]
    },
    {
      "cell_type": "markdown",
      "metadata": {
        "id": "rrozx7iv61Mv"
      },
      "source": [
        "## What is Google Colab?\n",
        "\n",
        "Google Colab, or “Colab” for short, is a product from Google Research. Colab allows anybody to write and execute arbitrary Python code through the browser, and is especially well suited to machine learning, data analysis and education. More technically, Colab is a hosted Jupyter notebook service that requires no setup to use, while providing access free of charge to computing resources including GPUs. For more information, please see the [Colab FAQ here](https://research.google.com/colaboratory/faq.html) or watch the video below (if you can't immediately see the video, click the play button in the next cell to get it started):\n",
        "\n"
      ]
    },
    {
      "cell_type": "code",
      "execution_count": 1,
      "metadata": {
        "colab": {
          "base_uri": "https://localhost:8080/",
          "height": 360
        },
        "id": "mO5nEhq--SqZ",
        "outputId": "8b0341f7-0832-41a7-a86d-34e6afd14fe6"
      },
      "outputs": [
        {
          "data": {
            "text/html": [
              "\n",
              "<div align=\"center\">\n",
              "    <iframe width=100% height=\"315\"\n",
              "    src=\"https://www.youtube.com/embed/inN8seMm7UI\">\n",
              "    </iframe>\n",
              "</div> \n"
            ],
            "text/plain": [
              "<IPython.core.display.HTML object>"
            ]
          },
          "execution_count": 1,
          "metadata": {},
          "output_type": "execute_result"
        }
      ],
      "source": [
        "from IPython.display import HTML\n",
        "\n",
        "HTML(\"\"\"\n",
        "<div align=\"center\">\n",
        "    <iframe width=100% height=\"315\"\n",
        "    src=\"https://www.youtube.com/embed/inN8seMm7UI\">\n",
        "    </iframe>\n",
        "</div>\n",
        "\"\"\")"
      ]
    },
    {
      "cell_type": "markdown",
      "metadata": {
        "id": "oon7WWUS7GkX"
      },
      "source": [
        "## Why should we use Jupyter Notebooks for teaching?\n",
        "\n",
        "Jupyter Notebooks offer an ideal environment for teaching introductory data analysis because they seamlessly integrate explanatory text with live, executable code. This integration fosters a hands-on learning approach, enabling COOPers to immediately apply theoretical concepts in an interactive manner. The visual feedback from executed code aids comprehension, allowing us to interweave theory and practice. Additionally, Jupyter Notebooks support rich media, such as plots and graphs, which are essential for data visualization, as well as photos and videos for enriching the course content. Their easy-to-share format also promotes collaboration, ensuring COOPers can review, replicate, and continually practice with these concepts on their own time, enhancing the overall learning experience.\n",
        "\n",
        "Jupyter Notebooks are also ubiquitous in the industry and its adoption in data analytics workflows will only continue to grow in the future. By getting exposure now, we will enable COOPers to have a better understanding of this common industry tool."
      ]
    },
    {
      "cell_type": "markdown",
      "metadata": {
        "id": "8voX6mek7XIX"
      },
      "source": [
        "## Why should we use Colab?\n",
        "\n",
        "When evaluating whether or not to adopt a software tool to use at scale, these are some critical factors to consider:\n",
        "- Ease of access\n",
        "- Compatibility across diverse user systems\n",
        "- Cost\n",
        "- Ease of use\n",
        "- Support & Maintenance\n",
        "- Flexibility & Extendability\n",
        "- Value"
      ]
    },
    {
      "cell_type": "markdown",
      "metadata": {
        "id": "TFGT16Dn7ZQ2"
      },
      "source": [
        "### Ease of access\n",
        "Jupyter Notebooks can generally be accessed through either cloud services or by installing the software locally on your device. Most intermediate to advanced users will eventually set up their own Jupyter Notebook environment on their device.\n",
        "\n",
        "The initial setup and management of the Jupyter Notebook environment can be an early barrier for novices, though. This was certainly our experience when piloting the new Python material during the Fall 2022 cycle, and it proved to be a major pain point across many cohorts.\n",
        "\n",
        "Captains reported spending upwards of an hour or more helping their cohorts troubleshoot installation issues. To mitigate this, the captain team in New York City tested using only Google Colab for the lessons in Spring 2023. These early tests showed that we were able to mitigate the startup issue, spending far less time on troubleshooting environment issues (a few minutes at most) and more time on teaching.    \n",
        "\n",
        "The only prerequisite for using Colab is a Google account, which we already require COOPers to have in order to facilitate resource distribution. By using Colab, COOPers and captains alike can access a ready-made Jupyter Notebook environment with a click of a button on just about any device that is connected to the internet."
      ]
    },
    {
      "cell_type": "markdown",
      "metadata": {
        "id": "3HeCg_sZ7mUk"
      },
      "source": [
        "### Compatibility across diverse user systems\n",
        "User systems (hardware and software) vary. For instance, some users will use MacOSX and others will use Windows. Or they may use ChromeOS. They may only have access to machines with few resources (or, in the worst case, not have access to their own personal machine at all.) Ensuring compatibility with a software product across these systems can be a difficult challenge.\n",
        "\n",
        "Since Colab is based in the web browser, we don’t have to worry much about the user’s system. If a COOPer can access the web, then they should have no issue accessing Colab. It is compatible across almost all of the major web browsers (although it will work best with either Chrome, Safari, or FireFox.) Additionally, since notebooks are saved to a user’s Google Drive by default, this allows them to easily access the materials across devices as well.\n",
        "\n",
        "Simply put, it is an excellent choice to enable accessibility to these resources for the vast majority of COOPers.\n",
        "Cost\n",
        "Colab has a generous free-tier which is more than enough for our needs and use cases. There is no out-of-pocket cost required for adoption in COOP’s learning materials.\n"
      ]
    },
    {
      "cell_type": "markdown",
      "metadata": {
        "id": "ibTgf3lp7luZ"
      },
      "source": [
        "### Ease of use\n",
        "It is important for the tools we use to be easy enough for the vast majority of users to learn and adapt to quickly. To that end, the Colab interface is intuitive and easy to use. It is a faithful implementation of the more ubiquitous Jupyter Notebook interface, keeping many of the same features and adding proprietary ones that make the environment that much better. COOPers have had an easy time navigating the elements of the user interface with minimal guidance. A two-minute tutorial is typically enough to get users started with what they need to know to run a notebook.  "
      ]
    },
    {
      "cell_type": "markdown",
      "metadata": {
        "id": "u3swtbwY7ysM"
      },
      "source": [
        "### Support & Maintenance\n",
        "Colab is maintained and supported by Google, so there is nothing on the infrastructure end that COOP needs to be concerned with. The only support and maintenance needed would involve the contents of the notebooks and the lessons themselves."
      ]
    },
    {
      "cell_type": "markdown",
      "metadata": {
        "id": "MOaf3DpG71hn"
      },
      "source": [
        "### Flexibility & Extendability\n",
        "While Colab’s underlying infrastructure cannot be modified, it allows us to install additional libraries and features on top of it to extend the functionality of a notebook for a lesson. This makes it suitable for all kinds of course content.\n",
        "\n",
        "For example, we can use a library like [`teachdb`](https://github.com/freestackinitiative/teachingdb/blob/main/README.md) which effectively turns a Jupyter Notebook into a relational database that can be queried with SQL. This functionality is not available by default in Colab, but it can be added easily."
      ]
    },
    {
      "cell_type": "markdown",
      "metadata": {
        "id": "tdEID4UA74Gn"
      },
      "source": [
        "### Value\n",
        "Adopting Colab presents an opportunity to:\n",
        "\n",
        "1. Teach industry relevant tools and workflows\n",
        "2. Standardize access to resources necessary for coding environments to facilitate learning for the vast majority of the COOP community\n",
        "3. Facilitate easy access to content and collaboration across regions\n",
        "4. Simulate on-the-job or technical interview scenarios that are commonly encountered in practice  \n",
        "\n",
        "In summary, Colab offers a seamless, cost-effective, and user-friendly environment, eliminating many challenges related to software setup and compatibility. Its adaptability ensures diverse course materials can be taught efficiently, making it an invaluable tool for teaching COOPers relevant industry skills."
      ]
    },
    {
      "cell_type": "markdown",
      "metadata": {
        "id": "C4vYG1cBC_re"
      },
      "source": [
        "## How does Colab work?\n",
        "\n",
        "Colab is available as a tool to all users with a valid Google account. You can go to https://colab.research.google.com/ to create a new notebook, upload one from your local device, or open notebooks you have already created. If you are trying to open a Colab notebook that is stored in Google Drive, you will need to ensure that you have the `Colaboratory` application installed for your Google Account. It is often available by default, but if it isn’t, it can be activated by going to the [Google Workspace Marketplace](https://workspace.google.com/marketplace/app/colaboratory/1014160490159), searching for “Colaboratory” and installing it. Once installed, Colab links in Google Drive will automatically open in the Colab environment.\n",
        "\n",
        "Once inside of Colab, the functionality and user interface is similar to that of most other Jupyter Notebook interfaces: content is arranged in cells, of which there are two types - code cells and text cells. Code cells can execute arbitrary Python code. Text cells are used for including written instructions or other content and are capable of rendering Markdown. Each cell has a “play” button which executes either the code in the cell (for code cells) or renders text (for text cells.) It is also possible to embed images and videos in these cells as well to enrich the experience.\n",
        "How can we use Colab for lessons?\n",
        "\n",
        "[Here is an example of our Python lesson content in Colab](https://colab.research.google.com/github/freestackinitiative/COOP-PythonLessons/blob/main/lessons/lesson1/Lesson%201.ipynb). The class descriptions and links to each of the classes in our curriculum can be [found here](https://freestackinitiative.github.io/COOP-PythonLessons/). Next to each class in the provided class list is an `Open in Colab` button that will take COOPers directly to the notebook in their browser. From there, they can go ahead and start working on the content - no configuration or further setup is required. And when they are done working through the content, they must save a copy of the notebook that they edited in order to keep their changes. By default, they are served a copy of the original file. This prevents them from unintentionally saving over and modifying the actual course content, which was another pain point we identified in the initial rollout of the new content."
      ]
    },
    {
      "cell_type": "markdown",
      "metadata": {},
      "source": [
        "### Code Example 1 - Interactive Python Code\n",
        "\n",
        "For a more direct example of how easy it is to use Colab for coding, go ahead and press the play button on the cell below to run some Python code:"
      ]
    },
    {
      "cell_type": "code",
      "execution_count": null,
      "metadata": {
        "id": "K6dggTCv76Uz"
      },
      "outputs": [],
      "source": [
        "reader = input(\"Please enter your name in the box below and press `Enter` on your keyboard:\\n\")\n",
        "\n",
        "print(f\"Welcome to Colab, {reader}!\")"
      ]
    },
    {
      "cell_type": "markdown",
      "metadata": {
        "id": "s6__n10lLajv"
      },
      "source": [
        "### Code Example 2 - Data Visualization\n",
        "\n",
        "The example below demonstrates the data visualization capabilities of Colab and Jupyter (click the play button in the next cell to run):"
      ]
    },
    {
      "cell_type": "code",
      "execution_count": null,
      "metadata": {
        "id": "i9m28caWGd1N"
      },
      "outputs": [],
      "source": [
        "import pandas as pd\n",
        "import numpy as np\n",
        "import matplotlib.pyplot as plt\n",
        "import seaborn as sns\n",
        "\n",
        "sns.lineplot(y=[0, 500, 1000, 2500, 5500, 9500], x=list(range(6)), color=\"blue\")\n",
        "plt.title(\"COOPer Python Skill Levels Over 5 Lessons (in Colab)\")\n",
        "plt.xlabel(\"Python Lessons\")\n",
        "plt.ylabel(\"Python Skill Level\")\n",
        "plt.xticks([0,1,2,3,4,5], [\"Start\",\"Lesson 1\", \"Lesson 2\", \"Lesson 3\", \"Lesson 4\", \"Lesson 5\"])\n",
        "plt.yticks(np.arange(1000,9001, 1000))\n",
        "plt.axhline(y=9000, color=\"red\")\n",
        "plt.grid()\n",
        "plt.tight_layout()\n",
        "plt.show()"
      ]
    },
    {
      "cell_type": "markdown",
      "metadata": {
        "id": "TMzyV7FULnl-"
      },
      "source": [
        "## Summary\n",
        "\n",
        "The tools we utilize for teaching and learning play an instrumental role in shaping educational experiences. Jupyter Notebooks, with their seamless blend of code, text, and visuals, have redefined interactive computing. Google Colab, an offshoot of this innovation, magnifies these benefits by providing a browser-based, no-setup-needed platform at no additional cost. Leveraging Colab for teaching not only addresses the technical roadblocks encountered with software installation but also democratizes access to advanced computing resources. As the world of data analytics continues to grow, it's paramount that educators equip learners with the right tools, and platforms like Colab pave the way for efficient, collaborative, and accessible learning journeys."
      ]
    }
  ],
  "metadata": {
    "colab": {
      "provenance": []
    },
    "kernelspec": {
      "display_name": "Python 3",
      "name": "python3"
    },
    "language_info": {
      "name": "python"
    }
  },
  "nbformat": 4,
  "nbformat_minor": 0
}
